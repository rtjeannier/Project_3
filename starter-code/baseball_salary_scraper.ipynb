{
 "cells": [
  {
   "cell_type": "code",
   "execution_count": 75,
   "metadata": {
    "collapsed": true
   },
   "outputs": [],
   "source": [
    "import requests\n",
    "import bs4\n",
    "from bs4 import BeautifulSoup\n",
    "import time\n",
    "import numpy as np\n",
    "import pandas as pd\n",
    "import time\n",
    "from selenium.webdriver.chrome.options import Options\n",
    "from selenium import webdriver  \n",
    "from selenium.common.exceptions import NoSuchElementException  \n",
    "from selenium.webdriver.common.keys import Keys  \n",
    "from bs4 import BeautifulSoup\n",
    "\n",
    "\n",
    "\n",
    "def get_salary_from_result(row):\n",
    "    salary = None\n",
    "    if row!= None:\n",
    "        salary = row.find('span', class_='info')\n",
    "        if salary!=None:\n",
    "            salary = salary.get_text()\n",
    "            salary = float(salary.replace('$', '').replace(',','').strip())\n",
    "    return salary\n",
    "\n",
    "def get_name_from_results(row):\n",
    "    name = None\n",
    "    if row!= None:\n",
    "        name = row.find('a', class_='team-name')\n",
    "        if name!=None:\n",
    "            name = name.get_text()\n",
    "    return name"
   ]
  },
  {
   "cell_type": "code",
   "execution_count": 76,
   "metadata": {
    "collapsed": false
   },
   "outputs": [],
   "source": [
    "URL = \"http://www.spotrac.com/mlb/rankings/2016/pitching/\"\n",
    "browser = webdriver.Chrome()  \n",
    "browser.get(URL)  \n",
    "html_source = browser.page_source  \n",
    "browser.quit()\n",
    "\n",
    "soup = BeautifulSoup(html_source,'html.parser')  \n",
    "results = soup.find(class_ = 'ranklist').find('tbody').findAll('tr')"
   ]
  },
  {
   "cell_type": "code",
   "execution_count": 77,
   "metadata": {
    "collapsed": false
   },
   "outputs": [],
   "source": [
    "df = pd.DataFrame(columns = ['player_name', 'salary'])\n",
    "for (i,row) in enumerate(results):\n",
    "    df.loc[i]= [get_name_from_results(row),get_salary_from_result(row)]"
   ]
  },
  {
   "cell_type": "code",
   "execution_count": 81,
   "metadata": {
    "collapsed": false
   },
   "outputs": [],
   "source": [
    "df.to_csv('/home/roland/Workspace/Data/baseball/pitcher_salaries.csv', index=False)"
   ]
  },
  {
   "cell_type": "code",
   "execution_count": null,
   "metadata": {
    "collapsed": true
   },
   "outputs": [],
   "source": []
  }
 ],
 "metadata": {
  "kernelspec": {
   "display_name": "Python 3",
   "language": "python",
   "name": "python3"
  },
  "language_info": {
   "codemirror_mode": {
    "name": "ipython",
    "version": 3
   },
   "file_extension": ".py",
   "mimetype": "text/x-python",
   "name": "python",
   "nbconvert_exporter": "python",
   "pygments_lexer": "ipython3",
   "version": "3.6.1"
  }
 },
 "nbformat": 4,
 "nbformat_minor": 2
}
