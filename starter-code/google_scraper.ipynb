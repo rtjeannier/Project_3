{
 "cells": [
  {
   "cell_type": "code",
   "execution_count": 103,
   "metadata": {
    "collapsed": true
   },
   "outputs": [],
   "source": [
    "import requests\n",
    "import bs4\n",
    "from bs4 import BeautifulSoup\n",
    "import time\n",
    "import numpy as np\n",
    "import pandas as pd\n",
    "import time"
   ]
  },
  {
   "cell_type": "code",
   "execution_count": 85,
   "metadata": {
    "collapsed": true
   },
   "outputs": [],
   "source": []
  },
  {
   "cell_type": "code",
   "execution_count": 99,
   "metadata": {
    "collapsed": false
   },
   "outputs": [],
   "source": [
    "from selenium import webdriver  \n",
    "from selenium.common.exceptions import NoSuchElementException  \n",
    "from selenium.webdriver.common.keys import Keys  \n",
    "from bs4 import BeautifulSoup\n",
    "\n",
    "def get_pop_from_google(city):\n",
    "    \n",
    "    city = city.replace(\" \", \"+\")\n",
    "    URL = \"https://www.google.com/search?q={}+population\"\n",
    "    URL = URL.format(city)\n",
    "    browser = webdriver.Chrome()  \n",
    "    browser.get(URL)  \n",
    "    html_source = browser.page_source  \n",
    "    browser.quit()\n",
    "\n",
    "    soup = BeautifulSoup(html_source,'html.parser')  \n",
    "    #class \"postText\" is not defined in the source code\n",
    "    value = soup.find('div',{'class':'kpd-ans kno-fb-ctx _fbh'})\n",
    "    \n",
    "    if value != None:\n",
    "        return value.get_text()\n",
    "    value = soup.find('div',{'class':'_XWk'})\n",
    "    if value != None:\n",
    "        return value.get_text()\n",
    "    return \"OOPS\""
   ]
  },
  {
   "cell_type": "code",
   "execution_count": 102,
   "metadata": {
    "collapsed": false
   },
   "outputs": [],
   "source": [
    "df_cost_living = pd.read_csv(\"~/Workspace/Data/cost_of_living.csv\")\n",
    "df_cost_living['search_location'] = df_cost_living.city"
   ]
  },
  {
   "cell_type": "code",
   "execution_count": 104,
   "metadata": {
    "collapsed": true
   },
   "outputs": [],
   "source": [
    "population = []\n",
    "for city in df_cost_living.city:\n",
    "    population.append(get_pop_from_google(city))\n",
    "    time.sleep(.1)\n"
   ]
  },
  {
   "cell_type": "code",
   "execution_count": 26,
   "metadata": {
    "collapsed": true
   },
   "outputs": [],
   "source": [
    "def find_city(result):\n",
    "    loc = result.find(class_=\"city-name\").get_text().split(\" (\") #getting locatoin and splitting it from county\n",
    "    city = loc[0]\n",
    "    country = loc[1][0:-1] #-2 is to get rid of the trailing parenthesis\n",
    "    price = result.find(class_=\"price-index\").get_text()\n",
    "    return (city, country, price)"
   ]
  },
  {
   "cell_type": "code",
   "execution_count": 109,
   "metadata": {
    "collapsed": false
   },
   "outputs": [],
   "source": [
    "pop = [p.split('\\xa0') for p in population]\n"
   ]
  },
  {
   "cell_type": "code",
   "execution_count": 118,
   "metadata": {
    "collapsed": false
   },
   "outputs": [],
   "source": [
    "def format_pop(p):\n",
    "    # splitting on white space to just get the number in the beginning\n",
    "    num = p[0].split(' ')[0]\n",
    "    # getting rid of commas in the string\n",
    "    num = num.replace(\",\",\"\")\n",
    "    # converting num to float\n",
    "    num = float(num)\n",
    "    # if there is more info to format with\n",
    "    if len(p)>1:\n",
    "        if p[1].startswith('million'):\n",
    "            num = num * 1000000\n",
    "    return num \n"
   ]
  },
  {
   "cell_type": "code",
   "execution_count": 120,
   "metadata": {
    "collapsed": false
   },
   "outputs": [],
   "source": [
    "formatted_pop = [format_pop(p) for p in pop]"
   ]
  },
  {
   "cell_type": "code",
   "execution_count": 121,
   "metadata": {
    "collapsed": true
   },
   "outputs": [],
   "source": [
    "df_cost_living['population'] = formatted_pop"
   ]
  },
  {
   "cell_type": "code",
   "execution_count": 123,
   "metadata": {
    "collapsed": false
   },
   "outputs": [],
   "source": [
    "df_cost_living.head()\n",
    "del df_cost_living['city']"
   ]
  },
  {
   "cell_type": "code",
   "execution_count": 124,
   "metadata": {
    "collapsed": true
   },
   "outputs": [],
   "source": [
    "df_cost_living.to_csv(\"~/Workspace/Data/cost_of_living_pop.csv\", index=False)"
   ]
  },
  {
   "cell_type": "code",
   "execution_count": null,
   "metadata": {
    "collapsed": true
   },
   "outputs": [],
   "source": []
  }
 ],
 "metadata": {
  "kernelspec": {
   "display_name": "Python 3",
   "language": "python",
   "name": "python3"
  },
  "language_info": {
   "codemirror_mode": {
    "name": "ipython",
    "version": 3
   },
   "file_extension": ".py",
   "mimetype": "text/x-python",
   "name": "python",
   "nbconvert_exporter": "python",
   "pygments_lexer": "ipython3",
   "version": "3.6.1"
  }
 },
 "nbformat": 4,
 "nbformat_minor": 2
}
