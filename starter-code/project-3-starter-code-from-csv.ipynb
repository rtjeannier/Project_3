{
 "cells": [
  {
   "cell_type": "markdown",
   "metadata": {
    "focus": false,
    "id": "69b9a648-bcc7-490d-9f9b-ea244d156bd6"
   },
   "source": [
    "# Web Scraping for Indeed.com & Predicting Salaries"
   ]
  },
  {
   "cell_type": "markdown",
   "metadata": {
    "focus": false,
    "id": "34681254-c802-462f-829d-8894d0772d08"
   },
   "source": [
    "In this project, we will practice two major skills: collecting data by scraping a website and then building a binary classifier.\n",
    "\n",
    "We are going to collect salary information on data science jobs in a variety of markets. Then using the location, title, and summary of the job we will attempt to predict the salary of the job. For job posting sites, this would be extraordinarily useful. While most listings DO NOT come with salary information (as you will see in this exercise), being to able extrapolate or predict the expected salaries from other listings can help guide negotiations.\n",
    "\n",
    "Normally, we could use regression for this task; however, we will convert this problem into classification and use a random forest classifier, as well as another classifier of your choice; either logistic regression, SVM, or KNN. \n",
    "\n",
    "- **Question**: Why would we want this to be a classification problem?\n",
    "- **Answer**: While more precision may be better, there is a fair amount of natural variance in job salaries - predicting a range be may be useful.\n",
    "\n",
    "Therefore, the first part of the assignment will be focused on scraping Indeed.com. In the second, we'll focus on using listings with salary information to build a model and predict additional salaries."
   ]
  },
  {
   "cell_type": "markdown",
   "metadata": {
    "focus": false,
    "id": "a948d79c-5527-4c0d-ab23-f5d43ce72056"
   },
   "source": [
    "### Scraping job listings from Indeed.com"
   ]
  },
  {
   "cell_type": "markdown",
   "metadata": {
    "focus": true,
    "id": "7203e0c9-e437-4802-a6ad-7dc464f94436"
   },
   "source": [
    "We will be scraping job listings from Indeed.com using BeautifulSoup. Luckily, Indeed.com is a simple text page where we can easily find relevant entries.\n",
    "\n",
    "First, look at the source of an Indeed.com page: (http://www.indeed.com/jobs?q=data+scientist+%2420%2C000&l=New+York&start=10\")\n",
    "\n",
    "Notice, each job listing is underneath a `div` tag with a class name of `result`. We can use BeautifulSoup to extract those. "
   ]
  },
  {
   "cell_type": "markdown",
   "metadata": {},
   "source": [
    "#### Set up a request (using requests) to the URL below. Use BeautifulSoup to parse the page and extract all results (HINT: Look for div tags with class name result)\n",
    "The URL here has many query parameters\n",
    "- q for the job search\n",
    "- This is followed by \"+20,000\" to return results with salaries (or expected salaries >$20,000)\n",
    "- l for a location\n",
    "- start for what result number to start on"
   ]
  },
  {
   "cell_type": "code",
   "execution_count": 1,
   "metadata": {
    "collapsed": true
   },
   "outputs": [],
   "source": [
    "import requests\n",
    "import bs4\n",
    "from bs4 import BeautifulSoup\n",
    "import time\n",
    "import numpy as np\n",
    "import seaborn as sns\n",
    "import matplotlib.pyplot as plt\n",
    "%matplotlib inline"
   ]
  },
  {
   "cell_type": "code",
   "execution_count": 2,
   "metadata": {
    "collapsed": true
   },
   "outputs": [],
   "source": [
    "import pandas as pd\n",
    "import time\n",
    "import ast\n",
    "\n",
    "# I would like to get the cities from my cost of living data set.\n",
    "# I'm loading my data from csv after I \n",
    "df = pd.read_csv(\"~/Workspace/Data/indeed_scraped.csv\")\n",
    "df_cost_living = pd.read_csv(\"~/Workspace/Data/cost_of_living_pop.csv\")"
   ]
  },
  {
   "cell_type": "markdown",
   "metadata": {
    "focus": false,
    "id": "20339c09-5032-4e27-91be-286e9b46cd13"
   },
   "source": [
    "#### Use the functions you wrote above to parse out the 4 fields - location, title, company and salary. Create a dataframe from the results with those 4 columns."
   ]
  },
  {
   "cell_type": "markdown",
   "metadata": {
    "focus": false,
    "id": "7d4bc860-b214-4f75-9cd0-b234830b1ec2"
   },
   "source": [
    "#### Write a function that takes a salary string and converts it to a number, averaging a salary range if necessary"
   ]
  },
  {
   "cell_type": "code",
   "execution_count": 3,
   "metadata": {
    "collapsed": true
   },
   "outputs": [],
   "source": [
    "# adjusting salarys to their annual value\n",
    "def salary_adjust(list_salaries, list_describer):\n",
    "    modified_list = []\n",
    "    if len(list_salaries) == len(list_describer):\n",
    "        for (i,s) in enumerate(list_salaries):\n",
    "            describer = list_describer[i]\n",
    "            if describer == 'hour':\n",
    "                s = s * 40 * 52\n",
    "            elif describer == 'day':\n",
    "                s = s * 5 * 52\n",
    "            elif describer == 'week':\n",
    "                s = s* 52.0\n",
    "            elif describer == 'month':\n",
    "                s = s*12.0\n",
    "            modified_list.append(s)\n",
    "    else:\n",
    "        raise ValueError('inputs must be of identical length')\n",
    "    return modified_list"
   ]
  },
  {
   "cell_type": "code",
   "execution_count": 4,
   "metadata": {},
   "outputs": [
    {
     "name": "stderr",
     "output_type": "stream",
     "text": [
      "/home/roland/anaconda3/envs/ga-immersive/lib/python2.7/site-packages/ipykernel_launcher.py:2: SettingWithCopyWarning: \n",
      "A value is trying to be set on a copy of a slice from a DataFrame\n",
      "\n",
      "See the caveats in the documentation: http://pandas.pydata.org/pandas-docs/stable/indexing.html#indexing-view-versus-copy\n",
      "  \n"
     ]
    }
   ],
   "source": [
    "df_clean = df[df.salary.isnull() == False]\n",
    "df_clean.drop_duplicates(inplace=True)\n",
    "df_clean.sort_values('salary')\n",
    "# Merging my cost of living data with my dataframe.\n",
    "# Sub selecting cost of living data for easier formatting.\n",
    "df_cost_living = df_cost_living[['search_location','cost_index','population']]\n",
    "df_clean = df_clean.merge(df_cost_living, on='search_location', how='left')"
   ]
  },
  {
   "cell_type": "code",
   "execution_count": 5,
   "metadata": {
    "collapsed": true
   },
   "outputs": [],
   "source": [
    "df_clean['salary_adjusted'] = salary_adjust(df_clean.salary, df_clean.salary_info)\n",
    "df_clean_simple = df_clean[df_clean.salary > 20000]"
   ]
  },
  {
   "cell_type": "code",
   "execution_count": 6,
   "metadata": {},
   "outputs": [
    {
     "data": {
      "text/html": [
       "<div>\n",
       "<style>\n",
       "    .dataframe thead tr:only-child th {\n",
       "        text-align: right;\n",
       "    }\n",
       "\n",
       "    .dataframe thead th {\n",
       "        text-align: left;\n",
       "    }\n",
       "\n",
       "    .dataframe tbody tr th {\n",
       "        vertical-align: top;\n",
       "    }\n",
       "</style>\n",
       "<table border=\"1\" class=\"dataframe\">\n",
       "  <thead>\n",
       "    <tr style=\"text-align: right;\">\n",
       "      <th></th>\n",
       "      <th>job_title</th>\n",
       "      <th>salary</th>\n",
       "      <th>location</th>\n",
       "      <th>company</th>\n",
       "      <th>description</th>\n",
       "      <th>salary_info</th>\n",
       "      <th>cost_index</th>\n",
       "      <th>population</th>\n",
       "      <th>salary_adjusted</th>\n",
       "    </tr>\n",
       "    <tr>\n",
       "      <th>search_location</th>\n",
       "      <th></th>\n",
       "      <th></th>\n",
       "      <th></th>\n",
       "      <th></th>\n",
       "      <th></th>\n",
       "      <th></th>\n",
       "      <th></th>\n",
       "      <th></th>\n",
       "      <th></th>\n",
       "    </tr>\n",
       "  </thead>\n",
       "  <tbody>\n",
       "    <tr>\n",
       "      <th>New York City</th>\n",
       "      <td>86</td>\n",
       "      <td>86</td>\n",
       "      <td>86</td>\n",
       "      <td>86</td>\n",
       "      <td>86</td>\n",
       "      <td>86</td>\n",
       "      <td>86</td>\n",
       "      <td>86</td>\n",
       "      <td>86</td>\n",
       "    </tr>\n",
       "    <tr>\n",
       "      <th>Washington D.C.</th>\n",
       "      <td>55</td>\n",
       "      <td>55</td>\n",
       "      <td>55</td>\n",
       "      <td>55</td>\n",
       "      <td>55</td>\n",
       "      <td>55</td>\n",
       "      <td>55</td>\n",
       "      <td>55</td>\n",
       "      <td>55</td>\n",
       "    </tr>\n",
       "    <tr>\n",
       "      <th>Boston</th>\n",
       "      <td>35</td>\n",
       "      <td>35</td>\n",
       "      <td>35</td>\n",
       "      <td>35</td>\n",
       "      <td>35</td>\n",
       "      <td>35</td>\n",
       "      <td>35</td>\n",
       "      <td>35</td>\n",
       "      <td>35</td>\n",
       "    </tr>\n",
       "    <tr>\n",
       "      <th>San Jose</th>\n",
       "      <td>34</td>\n",
       "      <td>34</td>\n",
       "      <td>34</td>\n",
       "      <td>34</td>\n",
       "      <td>34</td>\n",
       "      <td>34</td>\n",
       "      <td>34</td>\n",
       "      <td>34</td>\n",
       "      <td>34</td>\n",
       "    </tr>\n",
       "    <tr>\n",
       "      <th>Chicago</th>\n",
       "      <td>32</td>\n",
       "      <td>32</td>\n",
       "      <td>32</td>\n",
       "      <td>32</td>\n",
       "      <td>32</td>\n",
       "      <td>32</td>\n",
       "      <td>32</td>\n",
       "      <td>32</td>\n",
       "      <td>32</td>\n",
       "    </tr>\n",
       "    <tr>\n",
       "      <th>Oakland</th>\n",
       "      <td>32</td>\n",
       "      <td>32</td>\n",
       "      <td>32</td>\n",
       "      <td>32</td>\n",
       "      <td>32</td>\n",
       "      <td>32</td>\n",
       "      <td>32</td>\n",
       "      <td>32</td>\n",
       "      <td>32</td>\n",
       "    </tr>\n",
       "    <tr>\n",
       "      <th>San Francisco</th>\n",
       "      <td>31</td>\n",
       "      <td>31</td>\n",
       "      <td>31</td>\n",
       "      <td>31</td>\n",
       "      <td>31</td>\n",
       "      <td>31</td>\n",
       "      <td>31</td>\n",
       "      <td>31</td>\n",
       "      <td>31</td>\n",
       "    </tr>\n",
       "    <tr>\n",
       "      <th>Los Angeles</th>\n",
       "      <td>30</td>\n",
       "      <td>30</td>\n",
       "      <td>30</td>\n",
       "      <td>30</td>\n",
       "      <td>30</td>\n",
       "      <td>30</td>\n",
       "      <td>30</td>\n",
       "      <td>30</td>\n",
       "      <td>30</td>\n",
       "    </tr>\n",
       "    <tr>\n",
       "      <th>Tacoma</th>\n",
       "      <td>30</td>\n",
       "      <td>30</td>\n",
       "      <td>30</td>\n",
       "      <td>30</td>\n",
       "      <td>30</td>\n",
       "      <td>30</td>\n",
       "      <td>30</td>\n",
       "      <td>30</td>\n",
       "      <td>30</td>\n",
       "    </tr>\n",
       "    <tr>\n",
       "      <th>Seattle</th>\n",
       "      <td>26</td>\n",
       "      <td>26</td>\n",
       "      <td>26</td>\n",
       "      <td>26</td>\n",
       "      <td>26</td>\n",
       "      <td>26</td>\n",
       "      <td>26</td>\n",
       "      <td>26</td>\n",
       "      <td>26</td>\n",
       "    </tr>\n",
       "  </tbody>\n",
       "</table>\n",
       "</div>"
      ],
      "text/plain": [
       "                 job_title  salary  location  company  description  \\\n",
       "search_location                                                      \n",
       "New York City           86      86        86       86           86   \n",
       "Washington D.C.         55      55        55       55           55   \n",
       "Boston                  35      35        35       35           35   \n",
       "San Jose                34      34        34       34           34   \n",
       "Chicago                 32      32        32       32           32   \n",
       "Oakland                 32      32        32       32           32   \n",
       "San Francisco           31      31        31       31           31   \n",
       "Los Angeles             30      30        30       30           30   \n",
       "Tacoma                  30      30        30       30           30   \n",
       "Seattle                 26      26        26       26           26   \n",
       "\n",
       "                 salary_info  cost_index  population  salary_adjusted  \n",
       "search_location                                                        \n",
       "New York City             86          86          86               86  \n",
       "Washington D.C.           55          55          55               55  \n",
       "Boston                    35          35          35               35  \n",
       "San Jose                  34          34          34               34  \n",
       "Chicago                   32          32          32               32  \n",
       "Oakland                   32          32          32               32  \n",
       "San Francisco             31          31          31               31  \n",
       "Los Angeles               30          30          30               30  \n",
       "Tacoma                    30          30          30               30  \n",
       "Seattle                   26          26          26               26  "
      ]
     },
     "execution_count": 6,
     "metadata": {},
     "output_type": "execute_result"
    }
   ],
   "source": [
    "df_clean.groupby('search_location').count().nlargest(10,'job_title')"
   ]
  },
  {
   "cell_type": "markdown",
   "metadata": {},
   "source": [
    "When adjusting salaries I get more data points, but the average salary becomes lower. I think this is still a valid approach to make. And I still have the data marked to determine which values are adjusted and which are not."
   ]
  },
  {
   "cell_type": "code",
   "execution_count": 7,
   "metadata": {
    "focus": false,
    "id": "783fd153-28ac-47ab-bfca-27e7c1de95b4"
   },
   "outputs": [
    {
     "data": {
      "text/plain": [
       "search_location\n",
       "New York City      86\n",
       "Washington D.C.    55\n",
       "Boston             35\n",
       "San Jose           34\n",
       "Oakland            32\n",
       "Chicago            32\n",
       "San Francisco      31\n",
       "Tacoma             30\n",
       "Los Angeles        30\n",
       "Seattle            26\n",
       "Name: job_title, dtype: int64"
      ]
     },
     "execution_count": 7,
     "metadata": {},
     "output_type": "execute_result"
    }
   ],
   "source": [
    "df_clean.groupby('search_location').count().sort_values('salary', ascending=False)['job_title'].head(10)"
   ]
  },
  {
   "cell_type": "code",
   "execution_count": 8,
   "metadata": {},
   "outputs": [
    {
     "data": {
      "text/html": [
       "<div>\n",
       "<style>\n",
       "    .dataframe thead tr:only-child th {\n",
       "        text-align: right;\n",
       "    }\n",
       "\n",
       "    .dataframe thead th {\n",
       "        text-align: left;\n",
       "    }\n",
       "\n",
       "    .dataframe tbody tr th {\n",
       "        vertical-align: top;\n",
       "    }\n",
       "</style>\n",
       "<table border=\"1\" class=\"dataframe\">\n",
       "  <thead>\n",
       "    <tr style=\"text-align: right;\">\n",
       "      <th></th>\n",
       "      <th>job_title</th>\n",
       "      <th>salary</th>\n",
       "      <th>location</th>\n",
       "      <th>company</th>\n",
       "      <th>description</th>\n",
       "      <th>search_location</th>\n",
       "      <th>cost_index</th>\n",
       "      <th>population</th>\n",
       "      <th>salary_adjusted</th>\n",
       "    </tr>\n",
       "    <tr>\n",
       "      <th>salary_info</th>\n",
       "      <th></th>\n",
       "      <th></th>\n",
       "      <th></th>\n",
       "      <th></th>\n",
       "      <th></th>\n",
       "      <th></th>\n",
       "      <th></th>\n",
       "      <th></th>\n",
       "      <th></th>\n",
       "    </tr>\n",
       "  </thead>\n",
       "  <tbody>\n",
       "    <tr>\n",
       "      <th>day</th>\n",
       "      <td>1</td>\n",
       "      <td>1</td>\n",
       "      <td>1</td>\n",
       "      <td>1</td>\n",
       "      <td>1</td>\n",
       "      <td>1</td>\n",
       "      <td>1</td>\n",
       "      <td>1</td>\n",
       "      <td>1</td>\n",
       "    </tr>\n",
       "    <tr>\n",
       "      <th>hour</th>\n",
       "      <td>141</td>\n",
       "      <td>141</td>\n",
       "      <td>141</td>\n",
       "      <td>141</td>\n",
       "      <td>141</td>\n",
       "      <td>141</td>\n",
       "      <td>141</td>\n",
       "      <td>141</td>\n",
       "      <td>141</td>\n",
       "    </tr>\n",
       "    <tr>\n",
       "      <th>month</th>\n",
       "      <td>55</td>\n",
       "      <td>55</td>\n",
       "      <td>55</td>\n",
       "      <td>55</td>\n",
       "      <td>55</td>\n",
       "      <td>55</td>\n",
       "      <td>55</td>\n",
       "      <td>55</td>\n",
       "      <td>55</td>\n",
       "    </tr>\n",
       "    <tr>\n",
       "      <th>year</th>\n",
       "      <td>614</td>\n",
       "      <td>614</td>\n",
       "      <td>614</td>\n",
       "      <td>614</td>\n",
       "      <td>614</td>\n",
       "      <td>614</td>\n",
       "      <td>614</td>\n",
       "      <td>614</td>\n",
       "      <td>614</td>\n",
       "    </tr>\n",
       "  </tbody>\n",
       "</table>\n",
       "</div>"
      ],
      "text/plain": [
       "             job_title  salary  location  company  description  \\\n",
       "salary_info                                                      \n",
       "day                  1       1         1        1            1   \n",
       "hour               141     141       141      141          141   \n",
       "month               55      55        55       55           55   \n",
       "year               614     614       614      614          614   \n",
       "\n",
       "             search_location  cost_index  population  salary_adjusted  \n",
       "salary_info                                                            \n",
       "day                        1           1           1                1  \n",
       "hour                     141         141         141              141  \n",
       "month                     55          55          55               55  \n",
       "year                     614         614         614              614  "
      ]
     },
     "execution_count": 8,
     "metadata": {},
     "output_type": "execute_result"
    }
   ],
   "source": [
    "df_clean.groupby('salary_info').count()"
   ]
  },
  {
   "cell_type": "code",
   "execution_count": 9,
   "metadata": {},
   "outputs": [
    {
     "data": {
      "text/html": [
       "<div>\n",
       "<style>\n",
       "    .dataframe thead tr:only-child th {\n",
       "        text-align: right;\n",
       "    }\n",
       "\n",
       "    .dataframe thead th {\n",
       "        text-align: left;\n",
       "    }\n",
       "\n",
       "    .dataframe tbody tr th {\n",
       "        vertical-align: top;\n",
       "    }\n",
       "</style>\n",
       "<table border=\"1\" class=\"dataframe\">\n",
       "  <thead>\n",
       "    <tr style=\"text-align: right;\">\n",
       "      <th></th>\n",
       "      <th>salary</th>\n",
       "      <th>cost_index</th>\n",
       "      <th>population</th>\n",
       "      <th>salary_adjusted</th>\n",
       "    </tr>\n",
       "    <tr>\n",
       "      <th>salary_info</th>\n",
       "      <th></th>\n",
       "      <th></th>\n",
       "      <th></th>\n",
       "      <th></th>\n",
       "    </tr>\n",
       "  </thead>\n",
       "  <tbody>\n",
       "    <tr>\n",
       "      <th>day</th>\n",
       "      <td>92.500000</td>\n",
       "      <td>153.000000</td>\n",
       "      <td>5.950470e+05</td>\n",
       "      <td>24050.000000</td>\n",
       "    </tr>\n",
       "    <tr>\n",
       "      <th>hour</th>\n",
       "      <td>32.899681</td>\n",
       "      <td>179.992908</td>\n",
       "      <td>1.182778e+06</td>\n",
       "      <td>68431.336170</td>\n",
       "    </tr>\n",
       "    <tr>\n",
       "      <th>month</th>\n",
       "      <td>5341.609091</td>\n",
       "      <td>175.563636</td>\n",
       "      <td>1.068099e+06</td>\n",
       "      <td>64099.309091</td>\n",
       "    </tr>\n",
       "    <tr>\n",
       "      <th>year</th>\n",
       "      <td>100958.286645</td>\n",
       "      <td>190.211726</td>\n",
       "      <td>1.970562e+06</td>\n",
       "      <td>100958.286645</td>\n",
       "    </tr>\n",
       "  </tbody>\n",
       "</table>\n",
       "</div>"
      ],
      "text/plain": [
       "                    salary  cost_index    population  salary_adjusted\n",
       "salary_info                                                          \n",
       "day              92.500000  153.000000  5.950470e+05     24050.000000\n",
       "hour             32.899681  179.992908  1.182778e+06     68431.336170\n",
       "month          5341.609091  175.563636  1.068099e+06     64099.309091\n",
       "year         100958.286645  190.211726  1.970562e+06    100958.286645"
      ]
     },
     "execution_count": 9,
     "metadata": {},
     "output_type": "execute_result"
    }
   ],
   "source": [
    "df_clean.groupby('salary_info').mean()"
   ]
  },
  {
   "cell_type": "markdown",
   "metadata": {},
   "source": [
    "I am less confident in my assumption that I can extrapolate the numbers. It seems that hourly and monthy and daily salaries are significantly different then yearly just by looking at the means. This is likely do to selection bias. Jobs with hourly posting are different kinds of jobs. So they pay less than salary positions."
   ]
  },
  {
   "cell_type": "markdown",
   "metadata": {},
   "source": [
    "\n",
    "# Making a plot of cost of living\n",
    "I would like to make a plot of average salary by location and cost of living"
   ]
  },
  {
   "cell_type": "code",
   "execution_count": 61,
   "metadata": {},
   "outputs": [
    {
     "data": {
      "text/plain": [
       "search_location\n",
       "Albuquerque                19.651335\n",
       "Anchorage                  10.495257\n",
       "Atlanta                    16.603022\n",
       "Austin                     33.306044\n",
       "Baltimore                  21.849930\n",
       "Boston                     23.653689\n",
       "Boulder                     3.797962\n",
       "Buffalo                     9.026774\n",
       "Charlotte                  29.587175\n",
       "Chicago                    95.045678\n",
       "Cincinnati                 10.498946\n",
       "Cleveland                  13.556184\n",
       "Colorado Springs           16.342270\n",
       "Columbus                   30.221012\n",
       "Dallas                     46.310611\n",
       "Denver                     23.982607\n",
       "Detroit                    23.640021\n",
       "Fort Lauderdale             6.280815\n",
       "Fort Worth                 30.010998\n",
       "Grand Rapids                6.902495\n",
       "Hartford                    4.330394\n",
       "Honolulu                   13.164371\n",
       "Houston                    80.920590\n",
       "Indianapolis               30.385488\n",
       "Jacksonville               30.942340\n",
       "Kansas City                16.915671\n",
       "Knoxville                   6.543886\n",
       "Las Vegas                  22.238651\n",
       "Los Angeles               139.704849\n",
       "Louisville                  8.894167\n",
       "                             ...    \n",
       "Miami                      15.937421\n",
       "Milwaukee                  20.908187\n",
       "Minneapolis - St. Paul    115.249473\n",
       "Nashville                  24.048138\n",
       "New Orleans                13.755973\n",
       "New York City             300.000000\n",
       "Oakland                    14.757730\n",
       "Oklahoma City              22.430323\n",
       "Orlando                     9.739037\n",
       "Philadelphia               55.094870\n",
       "Phoenix                    56.746311\n",
       "Pittsburgh                 10.668482\n",
       "Portland                   22.482888\n",
       "Providence                  6.297224\n",
       "Raleigh                    16.123682\n",
       "Richmond                    7.740302\n",
       "Riverside                  11.409768\n",
       "Sacramento                 17.401054\n",
       "Salt Lake City              6.807590\n",
       "San Antonio                52.459592\n",
       "San Diego                  49.437807\n",
       "San Francisco              30.387070\n",
       "San Jose                   36.015460\n",
       "Seattle                    24.748840\n",
       "St. Louis                  11.092235\n",
       "Tacoma                      7.423647\n",
       "Tampa                      13.252460\n",
       "Tucson                     18.647435\n",
       "Washington D.C.            23.934294\n",
       "Wichita                    13.700000\n",
       "Name: population, Length: 61, dtype: float64"
      ]
     },
     "execution_count": 61,
     "metadata": {},
     "output_type": "execute_result"
    }
   ],
   "source": [
    "import math\n",
    "df_plotting = df_clean.groupby('search_location').mean()\n",
    "s=300 * df_plotting.population/max(df_plotting.population)\n",
    "\n",
    "s"
   ]
  },
  {
   "cell_type": "code",
   "execution_count": 90,
   "metadata": {},
   "outputs": [
    {
     "data": {
      "text/plain": [
       "(array([  20000.,   40000.,   60000.,   80000.,  100000.,  120000.,\n",
       "         140000.,  160000.]), <a list of 8 Text yticklabel objects>)"
      ]
     },
     "execution_count": 90,
     "metadata": {},
     "output_type": "execute_result"
    },
    {
     "data": {
      "image/png": "[encoded data removed]",
      "text/plain": [
       "<matplotlib.figure.Figure at 0x7f8599463090>"
      ]
     },
     "metadata": {},
     "output_type": "display_data"
    }
   ],
   "source": [
    "\n",
    "fig = plt.figure(figsize=(30,20))\n",
    "ax = fig.add_subplot(111)\n",
    "\n",
    "for (i, e) in enumerate(df_plotting.iterrows()):\n",
    "    x = df_plotting.cost_index[i]\n",
    "    y = df_plotting.salary_adjusted[i]\n",
    "    plt.plot(x, \n",
    "             y, \n",
    "             marker='.', \n",
    "             markersize=s[i],\n",
    "             color=\"teal\") # replace the color with a classifier and i've got my self a bitchin chart.\n",
    "    size = (s[i]/float(100) * 3)\n",
    "    if s[i] > 50:\n",
    "        ax.text(x, y-s[i]*30, e[0], ha=\"center\", va=\"top\", size=19)\n",
    "\n",
    "\n",
    "plt.xlabel(\"Cost of Living Index\", fontsize=25)\n",
    "plt.ylabel(\"Average Salary by City\",fontsize=25)\n",
    "plt.xticks(fontsize=20)\n",
    "plt.yticks(fontsize=20)\n",
    "# I would also like to figure out how to increase the margin\n",
    "\n",
    "#sns.lmplot('cost_index', 'salary_adjusted',data=df_plotting, fit_reg=False)"
   ]
  },
  {
   "cell_type": "markdown",
   "metadata": {
    "focus": false,
    "id": "04563b69-f7b6-466f-9d65-fc62c9ddee6a"
   },
   "source": [
    "## Predicting salaries using Random Forests + Another Classifier"
   ]
  },
  {
   "cell_type": "code",
   "execution_count": null,
   "metadata": {},
   "outputs": [],
   "source": []
  },
  {
   "cell_type": "markdown",
   "metadata": {
    "focus": false,
    "id": "243e949e-2742-40af-872e-fec475fd306c"
   },
   "source": [
    "#### Load in the the data of scraped salaries"
   ]
  },
  {
   "cell_type": "markdown",
   "metadata": {
    "collapsed": true,
    "focus": false,
    "id": "588f9845-6143-4bcc-bfd1-85d45b79303d"
   },
   "source": [
    "I am going to start with just yearly salaries. We can modify the model from there."
   ]
  },
  {
   "cell_type": "code",
   "execution_count": 12,
   "metadata": {
    "collapsed": true
   },
   "outputs": [],
   "source": [
    "data = df_clean[df_clean['salary_info'] == 'year']"
   ]
  },
  {
   "cell_type": "markdown",
   "metadata": {
    "focus": false,
    "id": "c7631f51-07f2-4c79-a093-3e9bc7849a48"
   },
   "source": [
    "#### We want to predict a binary variable - whether the salary was low or high. Compute the median salary and create a new binary variable that is true when the salary is high (above the median)\n",
    "\n",
    "We could also perform Linear Regression (or any regression) to predict the salary value here. Instead, we are going to convert this into a _binary_ classification problem, by predicting two classes, HIGH vs LOW salary.\n",
    "\n",
    "While performing regression may be better, performing classification may help remove some of the noise of the extreme salaries. We don't _have_ to choose the `median` as the splitting point - we could also split on the 75th percentile or any other reasonable breaking point.\n",
    "\n",
    "In fact, the ideal scenario may be to predict many levels of salaries, "
   ]
  },
  {
   "cell_type": "code",
   "execution_count": 13,
   "metadata": {
    "focus": false,
    "id": "c20d2498-151c-44c3-a453-3a333c79a0ac"
   },
   "outputs": [
    {
     "name": "stderr",
     "output_type": "stream",
     "text": [
      "/home/roland/anaconda3/envs/ga-immersive/lib/python2.7/site-packages/ipykernel_launcher.py:1: SettingWithCopyWarning: \n",
      "A value is trying to be set on a copy of a slice from a DataFrame.\n",
      "Try using .loc[row_indexer,col_indexer] = value instead\n",
      "\n",
      "See the caveats in the documentation: http://pandas.pydata.org/pandas-docs/stable/indexing.html#indexing-view-versus-copy\n",
      "  \"\"\"Entry point for launching an IPython kernel.\n"
     ]
    }
   ],
   "source": [
    "data['is_high'] = data.salary > np.median(data.salary)"
   ]
  },
  {
   "cell_type": "code",
   "execution_count": 14,
   "metadata": {},
   "outputs": [
    {
     "data": {
      "text/html": [
       "<div>\n",
       "<style>\n",
       "    .dataframe thead tr:only-child th {\n",
       "        text-align: right;\n",
       "    }\n",
       "\n",
       "    .dataframe thead th {\n",
       "        text-align: left;\n",
       "    }\n",
       "\n",
       "    .dataframe tbody tr th {\n",
       "        vertical-align: top;\n",
       "    }\n",
       "</style>\n",
       "<table border=\"1\" class=\"dataframe\">\n",
       "  <thead>\n",
       "    <tr style=\"text-align: right;\">\n",
       "      <th></th>\n",
       "      <th>job_title</th>\n",
       "      <th>salary</th>\n",
       "      <th>location</th>\n",
       "      <th>company</th>\n",
       "      <th>description</th>\n",
       "      <th>search_location</th>\n",
       "      <th>salary_info</th>\n",
       "      <th>cost_index</th>\n",
       "      <th>population</th>\n",
       "      <th>salary_adjusted</th>\n",
       "      <th>is_high</th>\n",
       "    </tr>\n",
       "  </thead>\n",
       "  <tbody>\n",
       "    <tr>\n",
       "      <th>0</th>\n",
       "      <td>Data Scientist</td>\n",
       "      <td>75000.0</td>\n",
       "      <td>New York, NY 10022 (Midtown area)</td>\n",
       "      <td>First Derivatives</td>\n",
       "      <td>Data Scientists explore vast amounts of inform...</td>\n",
       "      <td>New York City</td>\n",
       "      <td>year</td>\n",
       "      <td>251</td>\n",
       "      <td>8538000.0</td>\n",
       "      <td>75000.0</td>\n",
       "      <td>False</td>\n",
       "    </tr>\n",
       "    <tr>\n",
       "      <th>1</th>\n",
       "      <td>Data Scientist</td>\n",
       "      <td>102500.0</td>\n",
       "      <td>New York, NY</td>\n",
       "      <td>MetroPlus Health Plan</td>\n",
       "      <td>The Data Scientist will be tasked with leading...</td>\n",
       "      <td>New York City</td>\n",
       "      <td>year</td>\n",
       "      <td>251</td>\n",
       "      <td>8538000.0</td>\n",
       "      <td>102500.0</td>\n",
       "      <td>True</td>\n",
       "    </tr>\n",
       "    <tr>\n",
       "      <th>2</th>\n",
       "      <td>Data Scientist</td>\n",
       "      <td>185000.0</td>\n",
       "      <td>New York, NY 10005 (Financial District area)</td>\n",
       "      <td>Enterprise Select</td>\n",
       "      <td>Financial Services data such as transactions, ...</td>\n",
       "      <td>New York City</td>\n",
       "      <td>year</td>\n",
       "      <td>251</td>\n",
       "      <td>8538000.0</td>\n",
       "      <td>185000.0</td>\n",
       "      <td>True</td>\n",
       "    </tr>\n",
       "    <tr>\n",
       "      <th>3</th>\n",
       "      <td>Quantitative Analyst</td>\n",
       "      <td>150000.0</td>\n",
       "      <td>New York, NY 10016 (Gramercy area)</td>\n",
       "      <td>A Priori Investment Management LLC</td>\n",
       "      <td>Explore complex, unorthodox, and unstructured ...</td>\n",
       "      <td>New York City</td>\n",
       "      <td>year</td>\n",
       "      <td>251</td>\n",
       "      <td>8538000.0</td>\n",
       "      <td>150000.0</td>\n",
       "      <td>True</td>\n",
       "    </tr>\n",
       "    <tr>\n",
       "      <th>4</th>\n",
       "      <td>Data Scientist</td>\n",
       "      <td>150000.0</td>\n",
       "      <td>Jersey City, NJ</td>\n",
       "      <td>MillerCang Agency</td>\n",
       "      <td>The role of the Data Scientist is to develop m...</td>\n",
       "      <td>New York City</td>\n",
       "      <td>year</td>\n",
       "      <td>251</td>\n",
       "      <td>8538000.0</td>\n",
       "      <td>150000.0</td>\n",
       "      <td>True</td>\n",
       "    </tr>\n",
       "  </tbody>\n",
       "</table>\n",
       "</div>"
      ],
      "text/plain": [
       "              job_title    salary  \\\n",
       "0        Data Scientist   75000.0   \n",
       "1        Data Scientist  102500.0   \n",
       "2        Data Scientist  185000.0   \n",
       "3  Quantitative Analyst  150000.0   \n",
       "4        Data Scientist  150000.0   \n",
       "\n",
       "                                       location  \\\n",
       "0             New York, NY 10022 (Midtown area)   \n",
       "1                                  New York, NY   \n",
       "2  New York, NY 10005 (Financial District area)   \n",
       "3            New York, NY 10016 (Gramercy area)   \n",
       "4                               Jersey City, NJ   \n",
       "\n",
       "                              company  \\\n",
       "0                   First Derivatives   \n",
       "1               MetroPlus Health Plan   \n",
       "2                   Enterprise Select   \n",
       "3  A Priori Investment Management LLC   \n",
       "4                   MillerCang Agency   \n",
       "\n",
       "                                         description search_location  \\\n",
       "0  Data Scientists explore vast amounts of inform...   New York City   \n",
       "1  The Data Scientist will be tasked with leading...   New York City   \n",
       "2  Financial Services data such as transactions, ...   New York City   \n",
       "3  Explore complex, unorthodox, and unstructured ...   New York City   \n",
       "4  The role of the Data Scientist is to develop m...   New York City   \n",
       "\n",
       "  salary_info  cost_index  population  salary_adjusted  is_high  \n",
       "0        year         251   8538000.0          75000.0    False  \n",
       "1        year         251   8538000.0         102500.0     True  \n",
       "2        year         251   8538000.0         185000.0     True  \n",
       "3        year         251   8538000.0         150000.0     True  \n",
       "4        year         251   8538000.0         150000.0     True  "
      ]
     },
     "execution_count": 14,
     "metadata": {},
     "output_type": "execute_result"
    }
   ],
   "source": [
    "data.head()"
   ]
  },
  {
   "cell_type": "markdown",
   "metadata": {
    "focus": false,
    "id": "a7afb2c0-d41e-4779-8216-91cd8dd4473f"
   },
   "source": [
    "#### Thought experiment: What is the baseline accuracy for this model?"
   ]
  },
  {
   "cell_type": "markdown",
   "metadata": {
    "collapsed": true,
    "focus": false,
    "id": "87a17d3d-b7f4-4747-9f75-f9af1d18a174"
   },
   "source": [
    "The accuracy of this model should not be less than 50% if we are splitting the data in half. If we do worse than 50% then our model is essentially backwards and we should reverse our predictions to know do better than 50%."
   ]
  },
  {
   "cell_type": "markdown",
   "metadata": {
    "focus": false,
    "id": "4fb29de2-5b98-474c-a4ad-5170b72b9aea"
   },
   "source": [
    "#### Create a Random Forest model to predict High/Low salary using Sklearn. Start by ONLY using the location as a feature. "
   ]
  },
  {
   "cell_type": "code",
   "execution_count": 127,
   "metadata": {
    "focus": false,
    "id": "ddbc6159-6854-4ca7-857f-bfecdaf6d9c2"
   },
   "outputs": [
    {
     "name": "stdout",
     "output_type": "stream",
     "text": [
      "0.692944444444\n"
     ]
    }
   ],
   "source": [
    "from sklearn.ensemble import RandomForestClassifier\n",
    "from sklearn.model_selection import train_test_split\n",
    "from sklearn.model_selection import cross_val_score\n",
    "from sklearn.metrics import confusion_matrix\n",
    "\n",
    "y = data['is_high']\n",
    "X = pd.get_dummies(data=data['location'])\n",
    "# I only want to dummy my best cities\n",
    "X = X[X.sum().nlargest(50).index]\n",
    "#X['cost_index'] = data['cost_index']\n",
    "X_train, X_test, y_train, y_test = train_test_split(X, y, test_size=0.33)\n",
    "\n",
    "rfc = RandomForestClassifier(max_depth=10, random_state=22)\n",
    "#rfc.fit(X_train, y_train)\n",
    "print(np.mean(cross_val_score(rfc, X_train, y_train,cv=50)))"
   ]
  },
  {
   "cell_type": "code",
   "execution_count": 94,
   "metadata": {
    "collapsed": true
   },
   "outputs": [],
   "source": [
    "# l = zip(X.columns, rfc.feature_importances_)\n",
    "# print l\n"
   ]
  },
  {
   "cell_type": "markdown",
   "metadata": {
    "focus": false,
    "id": "0ef04f32-419c-4bf2-baf7-48201f03df89"
   },
   "source": [
    "#### Create a few new variables in your dataframe to represent interesting features of a job title.\n",
    "- For example, create a feature that represents whether 'Senior' is in the title or whether 'Manager' is in the title. \n",
    "- Then build a new Random Forest with these features. Do they add any value?\n",
    "- After creating these variables, use count-vectorizer to create features based on the words in the job titles.\n",
    "- Build a new random forest model with location and these new features included."
   ]
  },
  {
   "cell_type": "code",
   "execution_count": 129,
   "metadata": {},
   "outputs": [
    {
     "name": "stdout",
     "output_type": "stream",
     "text": [
      "0.6875\n"
     ]
    }
   ],
   "source": [
    "## YOUR CODE HEREy = data['is_high']\n",
    "X = pd.get_dummies(data=data['location'])\n",
    "# I only want to dummy my best cities\n",
    "X = X[X.sum().nlargest(10).index]\n",
    "X['cost_index'] = data['cost_index']\n",
    "X['is_senior'] = ['senior' in j.lower() for j in data.job_title]\n",
    "X['is_manager'] = ['manager' in j.lower() for j in data.job_title]\n",
    "X['is_senior_desc'] = ['senior' in j.lower() for j in data.description]\n",
    "X_train, X_test, y_train, y_test = train_test_split(X, y, test_size=0.33)\n",
    "\n",
    "rfc = RandomForestClassifier(max_depth=7, random_state=22)\n",
    "rfc.fit(X_train, y_train)\n",
    "print(np.mean(cross_val_score(rfc, X_train, y_train,cv=100)))"
   ]
  },
  {
   "cell_type": "code",
   "execution_count": 132,
   "metadata": {},
   "outputs": [
    {
     "name": "stdout",
     "output_type": "stream",
     "text": [
      "[('Atlanta, GA', 0.0026057706050781003), ('Chicago, IL', 0.017313939447392922), ('Houston, TX', 0.0091091147502371083), ('Los Angeles, CA', 0.0092924555149087231), ('New York, NY', 0.029259481482878734), ('Philadelphia, PA', 0.020008338915637122), ('San Francisco, CA', 0.034115034995887653), ('Seattle, WA', 0.049423313246395886), ('Tucson, AZ', 0.040806708830926651), ('Washington, DC', 0.017239153096910938), ('cost_index', 0.57389834521329386), ('is_manager', 0.059538133211753455), ('is_senior', 0.057169307930882443), ('is_senior_desc', 0.080220902757816376)]\n"
     ]
    },
    {
     "data": {
      "text/plain": [
       "array([[79, 22],\n",
       "       [29, 73]])"
      ]
     },
     "execution_count": 132,
     "metadata": {},
     "output_type": "execute_result"
    }
   ],
   "source": [
    "l = zip(X.columns, rfc.feature_importances_)\n",
    "l.sort()\n",
    "print(l)\n",
    "\n",
    "confusion_matrix(y_test, rfc.predict(X_test))"
   ]
  },
  {
   "cell_type": "code",
   "execution_count": 135,
   "metadata": {},
   "outputs": [
    {
     "data": {
      "text/plain": [
       "0.74876847290640391"
      ]
     },
     "execution_count": 135,
     "metadata": {},
     "output_type": "execute_result"
    }
   ],
   "source": [
    "rfc.score(X=X_test,y=y_test)"
   ]
  },
  {
   "cell_type": "markdown",
   "metadata": {
    "focus": false,
    "id": "9367beff-72ba-4768-a0ba-a50b335de61d"
   },
   "source": [
    "#### Use cross-validation in scikit-learn to evaluate the model above. \n",
    "- Evaluate the accuracy of the model, as well as any other metrics you feel are appropriate. "
   ]
  },
  {
   "cell_type": "code",
   "execution_count": 121,
   "metadata": {
    "focus": false,
    "id": "269b9e7c-60b5-4a06-8255-881d7395bc1b"
   },
   "outputs": [
    {
     "data": {
      "text/plain": [
       "array([ 0.78571429,  0.53658537,  0.6       ,  0.725     ,  0.7       ])"
      ]
     },
     "execution_count": 121,
     "metadata": {},
     "output_type": "execute_result"
    }
   ],
   "source": [
    "cross_val_score(rfc, X_test, y_test,cv=5)"
   ]
  },
  {
   "cell_type": "markdown",
   "metadata": {},
   "source": [
    "#### Repeat the model-building process with a non-tree-based method."
   ]
  },
  {
   "cell_type": "code",
   "execution_count": 28,
   "metadata": {},
   "outputs": [
    {
     "name": "stdout",
     "output_type": "stream",
     "text": [
      "0.661451800232\n",
      "[[ 0.13479844  0.85360291 -0.3918334  -0.04356938  1.01047345  0.68969684\n",
      "  -0.54530351  0.41420435  0.1134146   0.22014154  0.0097376   0.78302532\n",
      "  -0.09452724]]\n"
     ]
    }
   ],
   "source": [
    "from sklearn.linear_model import LogisticRegressionCV\n",
    "from sklearn.neural_network import MLPClassifier\n",
    "\n",
    "X = pd.get_dummies(data=data['location'])\n",
    "# I only want to dummy my best cities\n",
    "X = X[X.sum().nlargest(10).index]\n",
    "X['cost_index'] = data['cost_index']\n",
    "X['is_senior'] = ['senior' in j.lower() for j in data.job_title]\n",
    "X['is_manager'] = ['manager' in j.lower() for j in data.job_title]\n",
    "X_train, X_test, y_train, y_test = train_test_split(X, y, test_size=0.33)\n",
    "\n",
    "rfc = LogisticRegressionCV()\n",
    "rfc.fit(X_train, y_train)\n",
    "print(np.mean(cross_val_score(rfc, X_train, y_train,cv=10)))\n",
    "print(rfc.coef_)\n",
    "print(rfc.)"
   ]
  },
  {
   "cell_type": "code",
   "execution_count": null,
   "metadata": {},
   "outputs": [],
   "source": [
    "mlp = MLPClassifier()\n",
    "np.mean(cross_val_score(mlp, X_train, y_train,cv=10))"
   ]
  },
  {
   "cell_type": "markdown",
   "metadata": {
    "focus": false,
    "id": "3be94357-e551-4094-b784-2df039216d33"
   },
   "source": [
    "### BONUS "
   ]
  },
  {
   "cell_type": "markdown",
   "metadata": {
    "focus": false,
    "id": "db045898-1d2d-4af2-8e79-437c4c7546b4"
   },
   "source": [
    "#### Bonus: Use Count Vectorizer from scikit-learn to create features from the job descriptions. \n",
    "- Examine using count or binary features in the model\n",
    "- Re-evaluate your models using these. Does this improve the model performance? \n",
    "- What text features are the most valuable? "
   ]
  },
  {
   "cell_type": "code",
   "execution_count": null,
   "metadata": {
    "collapsed": true,
    "focus": false,
    "id": "4239e458-28bd-4675-8db3-c1d9c02b9854"
   },
   "outputs": [],
   "source": [
    "## YOUR CODE HERE"
   ]
  }
 ],
 "metadata": {
  "anaconda-cloud": {},
  "kernelspec": {
   "display_name": "Python 2",
   "language": "python",
   "name": "python2"
  },
  "language_info": {
   "codemirror_mode": {
    "name": "ipython",
    "version": 2
   },
   "file_extension": ".py",
   "mimetype": "text/x-python",
   "name": "python",
   "nbconvert_exporter": "python",
   "pygments_lexer": "ipython2",
   "version": "2.7.13"
  }
 },
 "nbformat": 4,
 "nbformat_minor": 1
}
